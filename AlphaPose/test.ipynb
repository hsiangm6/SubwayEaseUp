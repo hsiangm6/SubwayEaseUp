{
 "cells": [
  {
   "cell_type": "code",
   "execution_count": 1,
   "id": "initial_id",
   "metadata": {
    "collapsed": true,
    "ExecuteTime": {
     "end_time": "2023-10-15T13:16:08.837453500Z",
     "start_time": "2023-10-15T13:15:48.247066600Z"
    }
   },
   "outputs": [
    {
     "name": "stderr",
     "output_type": "stream",
     "text": [
      "Using cache found in C:\\Users\\eddie/.cache\\torch\\hub\\ultralytics_yolov5_master\n",
      "YOLOv5  2023-10-15 Python-3.11.2 torch-2.1.0+cu118 CUDA:0 (NVIDIA GeForce RTX 3060 Laptop GPU, 6144MiB)\n",
      "\n",
      "Fusing layers... \n",
      "YOLOv5s summary: 213 layers, 7225885 parameters, 0 gradients, 16.4 GFLOPs\n",
      "Adding AutoShape... \n"
     ]
    },
    {
     "name": "stdout",
     "output_type": "stream",
     "text": [
      "1\n",
      "{'IMG_8366.JPG': {'item_count': 6, 'person_count': 10, 'chair_count': 0, 'total_objects': 13.0, 'hc_congestion_level': 2}, 'S__252403719.jpg': {'item_count': 0, 'person_count': 17, 'chair_count': 0, 'total_objects': 17.0, 'hc_congestion_level': 3}, 'S__252403738.jpg': {'item_count': 0, 'person_count': 2, 'chair_count': 2, 'total_objects': 2.0, 'hc_congestion_level': 1}}\n",
      "{'IMG_8366.JPG': {'ar_congestion_level': 2,\n",
      "                  'chair_count': 0,\n",
      "                  'final_level': 'medium',\n",
      "                  'hc_congestion_level': 2,\n",
      "                  'item_count': 6,\n",
      "                  'levels_count': 2.0,\n",
      "                  'person_count': 10,\n",
      "                  'sitting': 11,\n",
      "                  'standing': 1,\n",
      "                  'total_objects': 13.0},\n",
      " 'S__252403719.jpg': {'ar_congestion_level': 2,\n",
      "                      'chair_count': 0,\n",
      "                      'final_level': 'high',\n",
      "                      'hc_congestion_level': 3,\n",
      "                      'item_count': 0,\n",
      "                      'levels_count': 2.8000000000000003,\n",
      "                      'person_count': 17,\n",
      "                      'sitting': 13,\n",
      "                      'standing': 2,\n",
      "                      'total_objects': 17.0},\n",
      " 'S__252403738.jpg': {'ar_congestion_level': 1,\n",
      "                      'chair_count': 2,\n",
      "                      'final_level': 'low',\n",
      "                      'hc_congestion_level': 1,\n",
      "                      'item_count': 0,\n",
      "                      'levels_count': 1.0,\n",
      "                      'person_count': 2,\n",
      "                      'sitting': 1,\n",
      "                      'standing': 0,\n",
      "                      'total_objects': 2.0}}\n"
     ]
    }
   ],
   "source": [
    "# Import the crowd_congestion_result function\n",
    "from scripts.crowd_congestion_result import crowd_congestion_result\n",
    "import os\n",
    "import pprint\n",
    "\n",
    "# Define the work directory\n",
    "work_dir = 'C:/Users/eddie/GitHub/SubwayEaseUp/AlphaPose'\n",
    "\n",
    "# Change the current working directory to the AlphaPose directory\n",
    "os.chdir(work_dir)\n",
    "\n",
    "# Call the crowd_congestion_result function to process crowd congestion results\n",
    "result = crowd_congestion_result(\n",
    "    input_img=f'{work_dir}/examples/demo',\n",
    "    work_dir=work_dir,\n",
    "    hc_save_img=True,\n",
    "    ar_save_img=True\n",
    ")\n",
    "\n",
    "# Pretty print the result\n",
    "pprint.pprint(result)"
   ]
  },
  {
   "cell_type": "code",
   "execution_count": 2,
   "id": "0fd6f54a",
   "metadata": {
    "ExecuteTime": {
     "end_time": "2023-10-15T13:16:13.765664600Z",
     "start_time": "2023-10-15T13:16:13.759689200Z"
    }
   },
   "outputs": [
    {
     "name": "stdout",
     "output_type": "stream",
     "text": [
      "{'IMG_8366.JPG': {'ar_congestion_level': 2, 'sitting': 11, 'standing': 1},\n",
      " 'S__252403719.jpg': {'ar_congestion_level': 2, 'sitting': 13, 'standing': 2},\n",
      " 'S__252403738.jpg': {'ar_congestion_level': 1, 'sitting': 1, 'standing': 0}}\n"
     ]
    }
   ],
   "source": [
    "# Import the action_recognition function from the act_recog_result script\n",
    "from scripts.act_recog_result import action_recognition\n",
    "import os\n",
    "import pprint\n",
    "\n",
    "# Change the current working directory to the AlphaPose directory\n",
    "os.chdir(work_dir)\n",
    "\n",
    "# Call the action_recognition function to get the action recognition results\n",
    "json_result = action_recognition()\n",
    "\n",
    "# Pretty print the JSON result\n",
    "pprint.pprint(json_result)"
   ]
  },
  {
   "cell_type": "code",
   "execution_count": null,
   "id": "16d98d25",
   "metadata": {},
   "outputs": [],
   "source": []
  }
 ],
 "metadata": {
  "kernelspec": {
   "display_name": "Python 3",
   "language": "python",
   "name": "python3"
  },
  "language_info": {
   "codemirror_mode": {
    "name": "ipython",
    "version": 3
   },
   "file_extension": ".py",
   "mimetype": "text/x-python",
   "name": "python",
   "nbconvert_exporter": "python",
   "pygments_lexer": "ipython3",
   "version": "3.10.12"
  }
 },
 "nbformat": 4,
 "nbformat_minor": 5
}

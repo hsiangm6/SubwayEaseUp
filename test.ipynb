{
 "cells": [
  {
   "cell_type": "code",
   "execution_count": 1,
   "id": "initial_id",
   "metadata": {
    "collapsed": true,
    "ExecuteTime": {
     "end_time": "2023-10-15T06:23:31.320907800Z",
     "start_time": "2023-10-15T06:23:17.231999400Z"
    }
   },
   "outputs": [
    {
     "name": "stderr",
     "output_type": "stream",
     "text": [
      "Using cache found in C:\\Users\\hsian/.cache\\torch\\hub\\ultralytics_yolov5_master\n",
      "YOLOv5  2023-9-10 Python-3.10.2 torch-2.0.1+cpu CPU\n",
      "\n",
      "Fusing layers... \n",
      "YOLOv5s summary: 213 layers, 7225885 parameters, 0 gradients\n",
      "Adding AutoShape... \n"
     ]
    },
    {
     "name": "stdout",
     "output_type": "stream",
     "text": [
      "{'IMG_8366.JPG': {'ar_congestion_level': 2,\n",
      "                  'chair_count': 0,\n",
      "                  'final_level': 'medium',\n",
      "                  'hc_congestion_level': 2,\n",
      "                  'item_count': 6,\n",
      "                  'levels_count': 2.0,\n",
      "                  'person_count': 10,\n",
      "                  'sitting': 11,\n",
      "                  'standing': 1,\n",
      "                  'total_objects': 13.0},\n",
      " 'S__252403719.jpg': {'ar_congestion_level': 2,\n",
      "                      'chair_count': 0,\n",
      "                      'final_level': 'high',\n",
      "                      'hc_congestion_level': 3,\n",
      "                      'item_count': 0,\n",
      "                      'levels_count': 2.8000000000000003,\n",
      "                      'person_count': 17,\n",
      "                      'sitting': 13,\n",
      "                      'standing': 2,\n",
      "                      'total_objects': 17.0},\n",
      " 'S__252403738.jpg': {'ar_congestion_level': 1,\n",
      "                      'chair_count': 2,\n",
      "                      'final_level': 'low',\n",
      "                      'hc_congestion_level': 1,\n",
      "                      'item_count': 0,\n",
      "                      'levels_count': 1.0,\n",
      "                      'person_count': 2,\n",
      "                      'sitting': 1,\n",
      "                      'standing': 0,\n",
      "                      'total_objects': 2.0}}\n"
     ]
    }
   ],
   "source": [
    "from AlphaPose.scripts.crowd_congestion_result import crowd_congestion_result\n",
    "import os\n",
    "import pprint\n",
    "# 切换到 AlphaPose 目录\n",
    "os.chdir('C:/xampp/htdocs/SubwayEaseUp/AlphaPose')\n",
    "\n",
    "# result=crowd_congestion_result(input_img=\"C:/xampp/htdocs/SubwayEaseUp/AlphaPose/examples/demo/S__19259425.jpg\", hc_save_img=True, ar_save_img=True)\n",
    "result=crowd_congestion_result(\n",
    "    input_img=\"C:/xampp/htdocs/SubwayEaseUp/AlphaPose/examples/demo\", \n",
    "    hc_save_img=True, \n",
    "    ar_save_img=True\n",
    ")\n",
    "\n",
    "pprint.pprint(result)"
   ]
  },
  {
   "cell_type": "code",
   "execution_count": 2,
   "id": "0fd6f54a",
   "metadata": {
    "ExecuteTime": {
     "end_time": "2023-10-15T06:23:37.041676400Z",
     "start_time": "2023-10-15T06:23:36.989290Z"
    }
   },
   "outputs": [
    {
     "name": "stdout",
     "output_type": "stream",
     "text": [
      "{'IMG_8366.JPG': {'ar_congestion_level': 2, 'sitting': 11, 'standing': 1},\n",
      " 'S__252403719.jpg': {'ar_congestion_level': 2, 'sitting': 13, 'standing': 2},\n",
      " 'S__252403738.jpg': {'ar_congestion_level': 1, 'sitting': 1, 'standing': 0}}\n"
     ]
    }
   ],
   "source": [
    "from AlphaPose.scripts.act_recog_result import action_recognition\n",
    "import os\n",
    "import pprint\n",
    "# 切换到 AlphaPose 目录\n",
    "os.chdir('C:/xampp/htdocs/SubwayEaseUp/AlphaPose')\n",
    "\n",
    "json_result=action_recognition()\n",
    "\n",
    "pprint.pprint(json_result)"
   ]
  },
  {
   "cell_type": "code",
   "execution_count": 11,
   "id": "d014cd71ffbbab42",
   "metadata": {
    "ExecuteTime": {
     "end_time": "2023-10-13T07:23:11.715684Z",
     "start_time": "2023-10-13T07:23:11.660882Z"
    },
    "collapsed": false
   },
   "outputs": [
    {
     "name": "stdout",
     "output_type": "stream",
     "text": [
      "{'S__19259405_0.jpg': {'ar_congestion_level': 2, 'sitting': 10, 'standing': 2},\n",
      " 'S__19259406.jpg': {'ar_congestion_level': 1, 'sitting': 6, 'standing': 0},\n",
      " 'S__19259406_0.jpg': {'ar_congestion_level': 1, 'sitting': 6, 'standing': 0},\n",
      " 'S__19259408.jpg': {'ar_congestion_level': 1, 'sitting': 5, 'standing': 0},\n",
      " 'S__19259408_0.jpg': {'ar_congestion_level': 1, 'sitting': 5, 'standing': 0},\n",
      " 'S__19259409_0.jpg': {'ar_congestion_level': 1, 'sitting': 2, 'standing': 0},\n",
      " 'S__19259410.jpg': {'ar_congestion_level': 2, 'sitting': 15, 'standing': 1},\n",
      " 'S__19259410_0.jpg': {'ar_congestion_level': 2, 'sitting': 15, 'standing': 1},\n",
      " 'S__19259414.jpg': {'ar_congestion_level': 2, 'sitting': 13, 'standing': 1},\n",
      " 'S__19259414_0.jpg': {'ar_congestion_level': 2, 'sitting': 13, 'standing': 1},\n",
      " 'S__19259415_0.jpg': {'ar_congestion_level': 3, 'sitting': 18, 'standing': 4},\n",
      " 'S__19259416_0.jpg': {'ar_congestion_level': 2, 'sitting': 17, 'standing': 2},\n",
      " 'S__19259417.jpg': {'ar_congestion_level': 3, 'sitting': 13, 'standing': 3},\n",
      " 'S__19259417_0.jpg': {'ar_congestion_level': 3, 'sitting': 13, 'standing': 3},\n",
      " 'S__19259418_0.jpg': {'ar_congestion_level': 3, 'sitting': 13, 'standing': 3},\n",
      " 'S__19259420.jpg': {'ar_congestion_level': 3, 'sitting': 11, 'standing': 4},\n",
      " 'S__19259420_0.jpg': {'ar_congestion_level': 3, 'sitting': 11, 'standing': 4},\n",
      " 'S__19259421.jpg': {'ar_congestion_level': 3, 'sitting': 17, 'standing': 5},\n",
      " 'S__19259421_0.jpg': {'ar_congestion_level': 3, 'sitting': 17, 'standing': 5},\n",
      " 'S__19259423_0.jpg': {'ar_congestion_level': 3, 'sitting': 18, 'standing': 6},\n",
      " 'S__19259425.jpg': {'ar_congestion_level': 3, 'sitting': 13, 'standing': 6},\n",
      " 'S__19259425_0.jpg': {'ar_congestion_level': 3, 'sitting': 13, 'standing': 6},\n",
      " 'S__19259426_0.jpg': {'ar_congestion_level': 3, 'sitting': 14, 'standing': 3},\n",
      " 'S__19259432_0.jpg': {'ar_congestion_level': 2, 'sitting': 11, 'standing': 0},\n",
      " 'S__19259434_0.jpg': {'ar_congestion_level': 2, 'sitting': 9, 'standing': 1},\n",
      " 'S__19259436_0.jpg': {'ar_congestion_level': 3, 'sitting': 9, 'standing': 3},\n",
      " 'S__19259437_0.jpg': {'ar_congestion_level': 1, 'sitting': 9, 'standing': 0},\n",
      " 'S__19259438_0.jpg': {'ar_congestion_level': 2, 'sitting': 10, 'standing': 0},\n",
      " 'S__252403734.jpg': {'ar_congestion_level': 1, 'sitting': 7, 'standing': 2},\n",
      " 'S__252403738.jpg': {'ar_congestion_level': 1, 'sitting': 3, 'standing': 0},\n",
      " 'S__252403744.jpg': {'ar_congestion_level': 3, 'sitting': 9, 'standing': 4},\n",
      " 'S__252403745.jpg': {'ar_congestion_level': 3, 'sitting': 9, 'standing': 4}}\n"
     ]
    }
   ],
   "source": [
    "# single picture\n",
    "\n",
    "# !python C:/Users/hsian/AlphaPose/scripts/crowd_congestion_result.py --img_path C:/Users/hsian/AlphaPose/examples/demo/S__19259408.jpg --hc_save_img --ar_save_img\n",
    "import os\n",
    "\n",
    "# 切换到 AlphaPose 目录\n",
    "os.chdir('C:/xampp/htdocs/SubwayEaseUp/AlphaPose')\n",
    "\n",
    "# single img input\n",
    "!python -m scripts.crowd_congestion_result --img_path C:/Users/hsian/AlphaPose/examples/demo/S__19259405_0.jpg --hc_save_img --ar_save_img\n",
    "\n",
    "# directory input\n",
    "# !python -m scripts.crowd_congestion_result --img_path C:/Users/hsian/AlphaPose/examples/demo --hc_save_img --ar_save_img"
   ]
  },
  {
   "cell_type": "code",
   "execution_count": 1,
   "id": "d107c11bc1d3d19b",
   "metadata": {
    "ExecuteTime": {
     "end_time": "2023-10-13T08:29:15.966058300Z",
     "start_time": "2023-10-13T08:23:24.866748900Z"
    },
    "collapsed": false
   },
   "outputs": [
    {
     "name": "stdout",
     "output_type": "stream",
     "text": [
      "^C\n"
     ]
    }
   ],
   "source": [
    "import os\n",
    "\n",
    "# 切换到 AlphaPose 目录\n",
    "os.chdir('C:/xampp/htdocs/SubwayEaseUp/AlphaPose')\n",
    "\n",
    "# single-picture\n",
    "!python scripts/demo_inference.py --cfg configs/coco/resnet/256x192_res50_lr1e-3_1x.yaml --checkpoint pretrained_models/fast_res50_256x192.pth --image C:/Users/hsian/AlphaPose/examples/demo/S__19259425.jpg --outdir  C:/Users/hsian/AlphaPose/examples/res  --save_img --showbox\n"
   ]
  },
  {
   "cell_type": "code",
   "execution_count": null,
   "id": "16d98d25",
   "metadata": {},
   "outputs": [],
   "source": []
  }
 ],
 "metadata": {
  "kernelspec": {
   "display_name": "Python 3",
   "language": "python",
   "name": "python3"
  },
  "language_info": {
   "codemirror_mode": {
    "name": "ipython",
    "version": 3
   },
   "file_extension": ".py",
   "mimetype": "text/x-python",
   "name": "python",
   "nbconvert_exporter": "python",
   "pygments_lexer": "ipython3",
   "version": "3.10.12"
  }
 },
 "nbformat": 4,
 "nbformat_minor": 5
}

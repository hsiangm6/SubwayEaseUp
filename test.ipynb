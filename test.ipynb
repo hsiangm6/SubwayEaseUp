{
 "cells": [
  {
   "cell_type": "code",
   "execution_count": 4,
   "id": "initial_id",
   "metadata": {
    "collapsed": true,
    "ExecuteTime": {
     "end_time": "2023-10-12T19:44:16.752548500Z",
     "start_time": "2023-10-12T19:44:15.601800200Z"
    }
   },
   "outputs": [
    {
     "name": "stderr",
     "output_type": "stream",
     "text": [
      "Using cache found in C:\\Users\\hsian/.cache\\torch\\hub\\ultralytics_yolov5_master\n",
      "YOLOv5  2023-9-10 Python-3.10.12 torch-2.0.1 CPU\n",
      "\n",
      "Fusing layers... \n",
      "YOLOv5s summary: 213 layers, 7225885 parameters, 0 gradients\n",
      "Adding AutoShape... \n"
     ]
    },
    {
     "ename": "FileNotFoundError",
     "evalue": "[Errno 2] No such file or directory: 'examples/res/vis_head_count\\\\S__19259405_0.jpg'",
     "output_type": "error",
     "traceback": [
      "\u001B[1;31m---------------------------------------------------------------------------\u001B[0m",
      "\u001B[1;31mFileNotFoundError\u001B[0m                         Traceback (most recent call last)",
      "Input \u001B[1;32mIn [4]\u001B[0m, in \u001B[0;36m<cell line: 3>\u001B[1;34m()\u001B[0m\n\u001B[0;32m      1\u001B[0m \u001B[38;5;28;01mfrom\u001B[39;00m \u001B[38;5;21;01mAlphaPose\u001B[39;00m\u001B[38;5;21;01m.\u001B[39;00m\u001B[38;5;21;01mscripts\u001B[39;00m\u001B[38;5;21;01m.\u001B[39;00m\u001B[38;5;21;01mcrowd_congestion_result\u001B[39;00m \u001B[38;5;28;01mimport\u001B[39;00m crowd_congestion_result\n\u001B[1;32m----> 3\u001B[0m result\u001B[38;5;241m=\u001B[39m\u001B[43mcrowd_congestion_result\u001B[49m\u001B[43m(\u001B[49m\u001B[43minput_img\u001B[49m\u001B[38;5;241;43m=\u001B[39;49m\u001B[38;5;124;43m\"\u001B[39;49m\u001B[38;5;124;43mC:/xampp/htdocs/SubwayEaseUp/AlphaPose/examples/demo/S__19259405_0.jpg\u001B[39;49m\u001B[38;5;124;43m\"\u001B[39;49m\u001B[43m,\u001B[49m\u001B[43m \u001B[49m\u001B[43mhc_save_img\u001B[49m\u001B[38;5;241;43m=\u001B[39;49m\u001B[38;5;28;43;01mTrue\u001B[39;49;00m\u001B[43m,\u001B[49m\u001B[43m \u001B[49m\u001B[43mar_save_img\u001B[49m\u001B[38;5;241;43m=\u001B[39;49m\u001B[38;5;28;43;01mTrue\u001B[39;49;00m\u001B[43m)\u001B[49m\n",
      "File \u001B[1;32mC:\\xampp\\htdocs\\SubwayEaseUp\\AlphaPose\\scripts\\crowd_congestion_result.py:72\u001B[0m, in \u001B[0;36mcrowd_congestion_result\u001B[1;34m(input_img, hc_save_img, ar_save_img)\u001B[0m\n\u001B[0;32m     54\u001B[0m             \u001B[38;5;66;03m# for img_name in head_count_dict:\u001B[39;00m\n\u001B[0;32m     55\u001B[0m             \u001B[38;5;66;03m#     head_count_info = head_count_dict[img_name]\u001B[39;00m\n\u001B[0;32m     56\u001B[0m             \u001B[38;5;66;03m#     # 使用get()避免img_name不存在於act_recog_dict中時出錯\u001B[39;00m\n\u001B[1;32m   (...)\u001B[0m\n\u001B[0;32m     68\u001B[0m \n\u001B[0;32m     69\u001B[0m \u001B[38;5;66;03m# input single img path\u001B[39;00m\n\u001B[0;32m     70\u001B[0m     \u001B[38;5;28;01melif\u001B[39;00m os\u001B[38;5;241m.\u001B[39mpath\u001B[38;5;241m.\u001B[39misfile(input_img):\n\u001B[1;32m---> 72\u001B[0m         head_count_finish_code, head_count_dict \u001B[38;5;241m=\u001B[39m \u001B[43mhead_count\u001B[49m\u001B[43m(\u001B[49m\u001B[43mimg_path\u001B[49m\u001B[38;5;241;43m=\u001B[39;49m\u001B[43minput_img\u001B[49m\u001B[43m,\u001B[49m\u001B[43m \u001B[49m\u001B[43mhc_save_img\u001B[49m\u001B[38;5;241;43m=\u001B[39;49m\u001B[43mhc_save_img\u001B[49m\u001B[43m)\u001B[49m\n\u001B[0;32m     74\u001B[0m         \u001B[38;5;28;01mif\u001B[39;00m head_count_finish_code \u001B[38;5;241m!=\u001B[39m \u001B[38;5;241m0\u001B[39m:\n\u001B[0;32m     75\u001B[0m             \u001B[38;5;28;01mif\u001B[39;00m ar_save_img \u001B[38;5;129;01mis\u001B[39;00m \u001B[38;5;28;01mTrue\u001B[39;00m:\n",
      "File \u001B[1;32mC:\\xampp\\htdocs\\SubwayEaseUp\\AlphaPose\\head_count\\final.py:121\u001B[0m, in \u001B[0;36mhead_count\u001B[1;34m(img_path, hc_save_img)\u001B[0m\n\u001B[0;32m    119\u001B[0m         \u001B[38;5;66;03m# 保存修改后的图像到输出目录\u001B[39;00m\n\u001B[0;32m    120\u001B[0m         output_path \u001B[38;5;241m=\u001B[39m os\u001B[38;5;241m.\u001B[39mpath\u001B[38;5;241m.\u001B[39mjoin(output_dir, img_name)\n\u001B[1;32m--> 121\u001B[0m         \u001B[43mimg\u001B[49m\u001B[38;5;241;43m.\u001B[39;49m\u001B[43msave\u001B[49m\u001B[43m(\u001B[49m\u001B[43moutput_path\u001B[49m\u001B[43m)\u001B[49m\n\u001B[0;32m    123\u001B[0m     \u001B[38;5;28;01mreturn\u001B[39;00m \u001B[38;5;241m1\u001B[39m, all_result\n\u001B[0;32m    124\u001B[0m \u001B[38;5;28;01melse\u001B[39;00m:\n",
      "File \u001B[1;32m~\\anaconda3\\envs\\pytorch\\lib\\site-packages\\PIL\\Image.py:2428\u001B[0m, in \u001B[0;36mImage.save\u001B[1;34m(self, fp, format, **params)\u001B[0m\n\u001B[0;32m   2426\u001B[0m         fp \u001B[38;5;241m=\u001B[39m builtins\u001B[38;5;241m.\u001B[39mopen(filename, \u001B[38;5;124m\"\u001B[39m\u001B[38;5;124mr+b\u001B[39m\u001B[38;5;124m\"\u001B[39m)\n\u001B[0;32m   2427\u001B[0m     \u001B[38;5;28;01melse\u001B[39;00m:\n\u001B[1;32m-> 2428\u001B[0m         fp \u001B[38;5;241m=\u001B[39m \u001B[43mbuiltins\u001B[49m\u001B[38;5;241;43m.\u001B[39;49m\u001B[43mopen\u001B[49m\u001B[43m(\u001B[49m\u001B[43mfilename\u001B[49m\u001B[43m,\u001B[49m\u001B[43m \u001B[49m\u001B[38;5;124;43m\"\u001B[39;49m\u001B[38;5;124;43mw+b\u001B[39;49m\u001B[38;5;124;43m\"\u001B[39;49m\u001B[43m)\u001B[49m\n\u001B[0;32m   2430\u001B[0m \u001B[38;5;28;01mtry\u001B[39;00m:\n\u001B[0;32m   2431\u001B[0m     save_handler(\u001B[38;5;28mself\u001B[39m, fp, filename)\n",
      "\u001B[1;31mFileNotFoundError\u001B[0m: [Errno 2] No such file or directory: 'examples/res/vis_head_count\\\\S__19259405_0.jpg'"
     ]
    }
   ],
   "source": [
    "from AlphaPose.scripts.crowd_congestion_result import crowd_congestion_result\n",
    "\n",
    "# result=crowd_congestion_result(input_img=\"C:/xampp/htdocs/SubwayEaseUp/AlphaPose/examples/demo/S__19259405_0.jpg\", hc_save_img=True, ar_save_img=True)\n",
    "crowd_congestion_result(input_img=\"C:/xampp/htdocs/SubwayEaseUp/AlphaPose/examples/demo\", hc_save_img=True, ar_save_img=True)\n"
   ]
  },
  {
   "cell_type": "code",
   "execution_count": 8,
   "outputs": [
    {
     "name": "stderr",
     "output_type": "stream",
     "text": [
      "Traceback (most recent call last):\n",
      "  File \"C:\\Users\\hsian\\anaconda3\\envs\\pytorch\\lib\\runpy.py\", line 196, in _run_module_as_main\n",
      "    return _run_code(code, main_globals, None,\n",
      "  File \"C:\\Users\\hsian\\anaconda3\\envs\\pytorch\\lib\\runpy.py\", line 86, in _run_code\n",
      "    exec(code, run_globals)\n",
      "  File \"C:\\xampp\\htdocs\\SubwayEaseUp\\AlphaPose\\scripts\\crowd_congestion_result.py\", line 5, in <module>\n",
      "    from ..head_count.final import head_count, head_count_in_multi\n",
      "ImportError: attempted relative import beyond top-level package\n"
     ]
    }
   ],
   "source": [
    "# single picture\n",
    "\n",
    "# !python C:/Users/hsian/AlphaPose/scripts/crowd_congestion_result.py --img_path C:/Users/hsian/AlphaPose/examples/demo/S__19259408.jpg --hc_save_img --ar_save_img\n",
    "import os\n",
    "\n",
    "# 切换到 AlphaPose 目录\n",
    "os.chdir('C:/xampp/htdocs/SubwayEaseUp/AlphaPose')\n",
    "\n",
    "# single img input\n",
    "!python -m scripts.crowd_congestion_result --img_path C:/Users/hsian/AlphaPose/examples/demo/S__19259405_0.jpg --hc_save_img --ar_save_img\n",
    "\n",
    "# directory input\n",
    "# !python -m scripts.crowd_congestion_result --img_path C:/Users/hsian/AlphaPose/examples/demo --hc_save_img --ar_save_img"
   ],
   "metadata": {
    "collapsed": false,
    "ExecuteTime": {
     "end_time": "2023-10-12T19:08:23.731626200Z",
     "start_time": "2023-10-12T19:08:23.601861100Z"
    }
   },
   "id": "d014cd71ffbbab42"
  },
  {
   "cell_type": "code",
   "execution_count": null,
   "outputs": [],
   "source": [],
   "metadata": {
    "collapsed": false
   },
   "id": "d107c11bc1d3d19b"
  }
 ],
 "metadata": {
  "kernelspec": {
   "display_name": "Python 3",
   "language": "python",
   "name": "python3"
  },
  "language_info": {
   "codemirror_mode": {
    "name": "ipython",
    "version": 2
   },
   "file_extension": ".py",
   "mimetype": "text/x-python",
   "name": "python",
   "nbconvert_exporter": "python",
   "pygments_lexer": "ipython2",
   "version": "2.7.6"
  }
 },
 "nbformat": 4,
 "nbformat_minor": 5
}
